{
  "cells": [
    {
      "cell_type": "code",
      "execution_count": null,
      "metadata": {
        "id": "0dTA6ThgR0yl"
      },
      "outputs": [],
      "source": [
        "# EXECUTAR NO TERMINAL:\n",
        "\n",
        "# !pip install pandas\n",
        "# !pip install tensorflow\n",
        "# !pip install numpy\n",
        "# !pip install scikit-learn\n",
        "# !pip install matplotlib"
      ]
    },
    {
      "cell_type": "markdown",
      "metadata": {
        "id": "27WgAXdHwu8R"
      },
      "source": [
        "## BIBLIOTECAS"
      ]
    },
    {
      "cell_type": "code",
      "execution_count": 1,
      "metadata": {
        "id": "gBmW_EjiKffp"
      },
      "outputs": [],
      "source": [
        "# Bibliotecas para data-science\n",
        "import pandas as pd   #Biblioteca para Dataframes\n",
        "#import dask.dataframe as dd  #Alternativa para pandas\n",
        "import os   #Biblioteca para acesso dos arquivos\n",
        "import glob   #Biblioteca para acesso dos arquivos\n",
        "import numpy as np  #Biblioteca numérica\n",
        "\n",
        "# Bibliotecas para problemas de otimização\n",
        "#import pyomo.environ as pyo  #Biblioteca para otimização\n",
        "from amplpy import AMPL\n",
        "\n",
        "# Bibliotecas para redes neurais\n",
        "import tensorflow as tf\n",
        "import h5py\n",
        "from sklearn.compose import ColumnTransformer\n",
        "from sklearn.preprocessing import OneHotEncoder, StandardScaler\n",
        "from sklearn.model_selection import train_test_split\n",
        "from keras import backend as K  #Função para resetar a rede criada\n",
        "\n",
        "# Bibliotecas gráficas\n",
        "import matplotlib.pyplot as plt  #Biblioteca para plotar gráfico\n",
        "from mpl_toolkits.mplot3d import Axes3D #Função para gerar gráfico 3D\n",
        "from matplotlib.lines import Line2D #Função para gerar a legenda do gráfico com dois eixos Y\n",
        "\n",
        "# Bibliotecas para medição de tempo\n",
        "import time\n",
        "\n",
        "# Possíveis bibliotecas úteis:\n",
        "# import sympy as sp   #Biblioteca simbólica\n",
        "# import scipy as scp  #Biblioteca matemática geral"
      ]
    },
    {
      "cell_type": "markdown",
      "metadata": {
        "id": "5-xXJY_mgCBD"
      },
      "source": [
        "# PANDAS"
      ]
    },
    {
      "cell_type": "markdown",
      "metadata": {
        "id": "bqk_H5V5vXMo"
      },
      "source": [
        "## Código Principal"
      ]
    },
    {
      "cell_type": "markdown",
      "metadata": {
        "id": "VTrhjYA_Rq6R"
      },
      "source": [
        "### Definição das Variáveis"
      ]
    },
    {
      "cell_type": "code",
      "execution_count": 2,
      "metadata": {
        "cellView": "form",
        "colab": {
          "base_uri": "https://localhost:8080/",
          "height": 222
        },
        "id": "Y078dtVRZeJy",
        "outputId": "63406f79-ce34-4fcc-cefe-d198133c7439"
      },
      "outputs": [],
      "source": [
        "# DETERMINAÇÃO DAS TABELAS DA ONS\n",
        "\n",
        "dir = \"G:\\\\Meu Drive\\\\Documentos UFSCar\\\\Iniciação Científica (Giovanni Grizante)\\\\ONS\"\n",
        "\n",
        "ons = {}\n",
        "ons_usinas = {}\n",
        "\n",
        "#Acessar o drive e armazenar os dados\n",
        "for i in sorted(list(set(os.listdir(dir)) - {'desktop.ini'})):\n",
        "  if len(list(set(os.listdir(f'{dir}\\\\{i}')) - {'desktop.ini'})) == 1:\n",
        "    ons[i] = pd.read_csv(glob.glob(f'{dir}\\\\{i}\\\\*')[0], delimiter = \";\")\n",
        "  else:\n",
        "    ons[i] = None\n",
        "\n",
        "# Concatenar e armazenar os dados disponibilizados de forma mensal\n",
        "for i in ons.keys():\n",
        "  tab_temp=[]\n",
        "  if ons[i] is None:\n",
        "    for j in range(1,13):\n",
        "      if os.path.isfile(f'{dir}\\\\{i}\\\\GERACAO_USINA-2_{i}_{j}.csv') == True:\n",
        "        tab_temp.append(pd.read_csv(f'{dir}\\\\{i}\\\\GERACAO_USINA-2_{i}_{j}.csv', delimiter = \";\"))\n",
        "        ons[str(i)] = pd.concat(tab_temp)\n",
        "      else:\n",
        "        pass\n",
        "  else:\n",
        "    pass\n",
        "\n",
        "  del tab_temp\n",
        "\n",
        "  #Separação em usinas térmicas\n",
        "  ons[i] = ons[i].loc[ons[i]['nom_tipousina']=='TÉRMICA']\n",
        "  ons_usinas[i] = list(set(ons[i]['nom_usina'].values.tolist()))\n",
        "\n",
        "  #Remover colunas desnecessárias\n",
        "  ons[i] = ons[i].drop(columns=['id_subsistema',\n",
        "                          'nom_subsistema',\n",
        "                          'nom_estado',\n",
        "                          'cod_modalidadeoperacao',\n",
        "                          'nom_tipousina',\n",
        "                          'ceg'])\n",
        "\n",
        "  #Trocar o nome das colunas restantes\n",
        "  ons[i] = ons[i].rename(columns={'din_instante':'Dia-Hora',\n",
        "                            'id_estado':'Estado',\n",
        "                            'nom_tipocombustivel':'Combustível',\n",
        "                            'nom_usina':'Usina',\n",
        "                            'val_geracao':'Geração'})\n",
        "\n",
        "############################################################################################################\n",
        "\n",
        "# DETERMINAÇÃO DAS TABELAS DA IEMA\n",
        "dir = 'G:\\\\Meu Drive\\\\Documentos UFSCar\\\\Iniciação Científica (Giovanni Grizante)\\\\IEMA'\n",
        "\n",
        "iema = {}\n",
        "iema_emi_usinas = {}\n",
        "iema_ger_usinas = {}\n",
        "sheets = [0,1]\n",
        "\n",
        "for i in sorted(list(set(os.listdir(dir)) - {'desktop.ini'})):\n",
        "  iema[i] = pd.read_excel(f'{dir}\\\\{i}\\\\IEMA {i}.xlsx', sheet_name=sheets)\n",
        "\n",
        "for i in iema.keys():\n",
        "  iema_ger_usinas[i] = list(iema[i][0]['Usina'])\n",
        "  iema_emi_usinas[i] = list(iema[i][1]['Usina'])\n",
        "\n",
        "# ARMAZENAR OS DADOS DE GERAÇÃO\n",
        "def armazenar(i,j,dir,arq):\n",
        "  if os.path.exists(dir):\n",
        "    if os.path.isfile(f'{dir}/{arq}') == False:\n",
        "      ons[i].loc[ons[i]['Usina']==ons_usinas[i][j]].to_csv(f'{dir}/{arq}',index=False)\n",
        "  else:\n",
        "    os.makedirs(f'{dir}')\n",
        "    ons[i].loc[ons[i]['Usina']==ons_usinas[i][j]].to_csv(f'{dir}/{arq}',index=False)\n",
        "\n",
        "for i in ons:\n",
        "  if i in iema_emi_usinas.keys(): # Apenas gera os dados de geração dos anos equivalente ao último relatório IEMA\n",
        "    for j in range(len(ons_usinas[i])):\n",
        "      if ons_usinas[i][j] in iema_emi_usinas[i]:\n",
        "        dir = f'G:\\\\Meu Drive\\\\Documentos UFSCar\\\\Iniciação Científica (Giovanni Grizante)\\\\Python\\\\Termelétricas Geral\\\\{ons_usinas[i][j]}\\\\Dados de Geração'\n",
        "        arq = f'{ons_usinas[i][j]}_{i}.csv'\n",
        "        armazenar(i,j,dir,arq)\n",
        "\n",
        "\n",
        "dir = f'G:\\\\Meu Drive\\\\Documentos UFSCar\\\\Iniciação Científica (Giovanni Grizante)\\\\Python\\\\Termelétricas (PANDAS)'\n",
        "usinas = list(set(os.listdir(f'{dir}')) - {'desktop.ini'})\n",
        "\n",
        "############################################################################################################\n",
        "\n",
        "#COMBINAÇÕES POSSÍVEIS DAS TERMELÉTRICAS\n",
        "\n",
        "#Gás Natural e Ciclo Combinado\n",
        "#Gás Natural e Ciclo Brayton\n",
        "#Gás Natural e Motor Combustão\n",
        "\n",
        "#Carvão Mineral e Ciclo Rankine\n",
        "\n",
        "#Óleo Combustível e Motor Combustão\n",
        "\n",
        "#Óleo Diesel e Motor Combustão\n",
        "#Óleo Diesel e Ciclo Combinado\n",
        "\n",
        "#############################################################################################################"
      ]
    },
    {
      "cell_type": "markdown",
      "metadata": {
        "id": "Qr-HlEHTRq6U"
      },
      "source": [
        "### Modelo de Otimização  - PYOMO (Arrumar)"
      ]
    },
    {
      "cell_type": "code",
      "execution_count": null,
      "metadata": {
        "id": "FB-9CJVUKhNf"
      },
      "outputs": [],
      "source": [
        "#Objetivos:\n",
        "  #Armazenar os dados de alfa, beta, gamma, omega, mi\n",
        "  #Realizar um for para cada usina\n",
        "\n",
        "def funcao_emissao(alfa, beta, gamma, omega, mi):  #Trabalhar com geração != 0\n",
        "  PG = list(ons_otim_ger[i]['Geração'].loc[ons_otim_ger[i]['Usina'] == ons_otim_emi_usinas[i][j]])\n",
        "  somatorio = 0\n",
        "  for y in range(len(PG)):\n",
        "    E = ((alfa * PG[y]**2 + beta * PG[y] + gamma) + omega * pyo.exp(mi * PG[y]))   #Valor 10^(-2) retirado\n",
        "    somatorio += E\n",
        "  return somatorio\n",
        "\n",
        "def obj(model):\n",
        "  ger_iema = float(iema[i][1]['Gases Emitidos (MIL TONELADAS DE CO2e)'].loc[iema[i][1]['Usina'] == ons_otim_emi_usinas[i][j]])\n",
        "  return (funcao_emissao(model.alfa, model.beta, model.gamma, model.omega, model.mi) - ger_iema)**2\n",
        "\n",
        "def pyomo(i,j):  #Código para realização do solver\n",
        "  print(f'Realizando otimização da usina {ons_otim_emi_usinas[i][j]}')\n",
        "  PG = list(ons_otim_ger[i]['Geração'].loc[ons_otim_ger[i]['Usina'] == ons_otim_emi_usinas[i][j]])\n",
        "\n",
        "  model = pyo.ConcreteModel()\n",
        "\n",
        "  model.alfa = pyo.Var(domain=pyo.NonNegativeReals)\n",
        "  model.beta = pyo.Var(domain=pyo.NonNegativeReals)\n",
        "  model.gamma = pyo.Var(domain=pyo.NonNegativeReals)\n",
        "  model.omega = pyo.Var(domain=pyo.NonNegativeReals)\n",
        "  model.mi = pyo.Var(domain=pyo.NonNegativeReals)\n",
        "\n",
        "  model.cons = pyo.ConstraintList()\n",
        "\n",
        "  for k in range(len(PG)):\n",
        "    model.cons.add(expr = ((model.alfa * PG[k]**2 + model.beta * PG[k] + model.gamma) + model.omega * pyo.exp(model.mi * PG[k])) >= 0)\n",
        "\n",
        "  model.cons.add(expr = model.alfa >= 0)\n",
        "  model.cons.add(expr = model.beta >= 0)\n",
        "  model.cons.add(expr = model.gamma >= 0)\n",
        "  model.cons.add(expr = model.omega >= 0)\n",
        "  model.cons.add(expr = model.mi >= 0)\n",
        "\n",
        "  print('Todas as variáveis declaradas')\n",
        "\n",
        "  model.obj_expr = pyo.Expression(rule=obj)\n",
        "  model.obj = pyo.Objective(expr = model.obj_expr, sense=pyo.minimize)\n",
        "\n",
        "  solver = pyo.SolverFactory('ipopt')\n",
        "  solver.options['max_iter']= 1000\n",
        "  solver.solve(model)\n",
        "  print('Modelo otimizado')\n",
        "\n",
        "  print(alfa())\n",
        "  print(beta())\n",
        "  print(gamma())\n",
        "  print(omega())\n",
        "  print(mi())\n",
        "\n",
        "  #Salvando os resultados\n",
        "  # tab = pd.DataFrame({'Coeficientes':['Alfa','Beta','Gamma','Omega','Mi'],'Valores':[model.alfa(),model.beta(),model.gamma(),model.omega(),model.mi()]})\n",
        "  # tab.to_csv(f'{dir}\\\\{ons_otim_emi_usinas[i][j]}_Pyomo.csv',index=False)\n",
        "  # print('Dados armazenados')\n",
        "\n",
        "  #Limpando o modelo para disponibilizar armazenamento na memória\n",
        "  del model\n",
        "\n",
        "i='2020'\n",
        "j=2\n",
        "pyomo(i,j)\n",
        "# for i in iema.keys():  #Código para resolver o solver de cada usina e armazenar no drive\n",
        "#   print(f'Realizando otimização das usinas de {i}.')\n",
        "#   for j in range(len(ons_otim_emi_usinas[i])):\n",
        "#     dir = f'G:\\\\Meu Drive\\\\Documentos UFSCar\\\\Iniciação Científica (Giovanni Grizante)\\\\Python\\\\Termelétricas (PANDAS)\\\\Completos\\\\{i}\\\\{ons_otim_emi_usinas[i][j]}\\\\Coeficientes'\n",
        "#     if os.path.exists(dir):\n",
        "#       if os.path.isfile(f'{dir}\\\\{ons_otim_emi_usinas[i][j]}_Pyomo.csv') == False:\n",
        "#         pyomo(i,j)\n",
        "#     else:\n",
        "#       os.makedirs(f'{dir}')\n",
        "#       pyomo(i,j)\n",
        "#   print(f'Usinas de {i} concluídas.')\n",
        "# print(f'Otimizações concluídas')"
      ]
    },
    {
      "cell_type": "markdown",
      "metadata": {
        "id": "5asnuJuSRq6V"
      },
      "source": [
        "### Problema de Otimização - AMPL"
      ]
    },
    {
      "cell_type": "code",
      "execution_count": null,
      "metadata": {
        "id": "Kn1rc9qV34R1"
      },
      "outputs": [],
      "source": [
        "def ampl_model(iema_ampl,ons_ampl):\n",
        "  # Criando uma instância AMPL\n",
        "  ampl_instance = AMPL()\n",
        "\n",
        "  # Definindo parâmetros\n",
        "  PG = list(ons_ampl['Geração']) #(dividir por 100 para PU)\n",
        "  E = iema_ampl['Gases Emitidos (MIL TONELADAS DE CO2e)'].loc[iema_ampl['Usina'] == ons_ampl['Usina'].iloc[0]].values[0] * 1000\n",
        "\n",
        "  # Definindo o modelo em AMPL\n",
        "  ampl_instance.eval(r'''\n",
        "    set intervalos;\n",
        "\n",
        "    param PG{intervalos};\n",
        "    param E; # Emissão anual\n",
        "\n",
        "    var alfa >= 0;\n",
        "    var beta >= 0;\n",
        "    var gamma >= 0;\n",
        "    var omega >= 0;\n",
        "    var mi >= 0;\n",
        "\n",
        "    minimize MSE: 1/card(intervalos) * (sum{k in intervalos} (alfa*PG[k]^2 + beta*PG[k] + gamma + omega*exp(mi*PG[k])) - E)^2; #MSE -> mean squared error (dividir por 100 para PU)\n",
        "  ''')\n",
        "\n",
        "  ampl_instance.set['intervalos'] = range(0,len(PG))\n",
        "  ampl_instance.param['PG'] = PG\n",
        "  ampl_instance.param['E'] = E\n",
        "\n",
        "  # Carregando o modelo\n",
        "  ampl_instance.setOption('solver','C:\\\\Users\\\\Giovanni\\\\Documents\\\\ipopt\\\\bin\\\\ipopt')  # Instalar o solver ipopt (Disponível em https://github.com/coin-or/Ipopt)\n",
        "  ampl_instance.solve()\n",
        "\n",
        "  # Extraindo resultados\n",
        "  alfa = ampl_instance.getVariable(\"alfa\").value()\n",
        "  beta = ampl_instance.getVariable(\"beta\").value()\n",
        "  gamma = ampl_instance.getVariable(\"gamma\").value()\n",
        "  omega = ampl_instance.getVariable(\"omega\").value()\n",
        "  mi = ampl_instance.getVariable(\"mi\").value()\n",
        "\n",
        "  #Salvando os resultados\n",
        "  tab = pd.DataFrame({'Coeficientes':['Alfa','Beta','Gamma','Omega','Mi'],'Valores':[alfa,beta,gamma,omega,mi]})\n",
        "  tab.to_csv(f'{dir2}\\\\{list(ons_ampl['Usina'])[0]}_{metodo_objetivo}_{pu_mw}_{zeros}.csv',index=False)\n",
        "\n",
        "  #Limpando o modelo para disponibilizar armazenamento na memória\n",
        "  del ampl_instance\n",
        "\n",
        "###############################################################################################################################\n",
        "\n",
        "# Parâmetros do solver\n",
        "dir = f'G:\\\\Meu Drive\\\\Documentos UFSCar\\\\Iniciação Científica (Giovanni Grizante)\\\\Python\\\\Termelétricas (PANDAS)'\n",
        "zeros = 'sem_zeros'  # sem_zeros / com_zeros\n",
        "metodo_objetivo = 'MSE'  # MSE / RMSE  (ALTERAR A FUNÇÃO OBJETIVO)\n",
        "pu_mw = 'MW'   # MW / PU  (ALTERAR DADOS DE GERAÇÃO)\n",
        "\n",
        "###############################################################################################################################\n",
        "\n",
        "\n",
        "# Código para somar os dados de emissão IEMA\n",
        "dir_iema = f'G:\\\\Meu Drive\\\\Documentos UFSCar\\\\Iniciação Científica (Giovanni Grizante)\\\\IEMA'\n",
        "ano = os.listdir(f'{dir_iema}')[0]\n",
        "iema_ampl = iema[ano][1]\n",
        "for i in iema.keys():\n",
        "  if str(int(i)+1) in iema.keys():\n",
        "    iema_ampl = pd.merge(iema_ampl,iema[str(int(i)+1)][1],how='outer',on='Usina',suffixes=(f'_{i}', f'_{str(int(i)+1)}'))\n",
        "    iema_ampl.replace(np.nan,0,inplace=True)\n",
        "    data = {'Usina': iema_ampl['Usina'].tolist(),'Gases Emitidos (MIL TONELADAS DE CO2e)': (iema_ampl[f'Gases Emitidos (MIL TONELADAS DE CO2e)_{i}'] + iema_ampl[f'Gases Emitidos (MIL TONELADAS DE CO2e)_{str(int(i)+1)}']).tolist()}\n",
        "    iema_ampl = pd.DataFrame(data)\n",
        "\n",
        "# Código para concatenar os dados de geração ONS e realizar a otimização\n",
        "for i in usinas:\n",
        "  ons_ampl = pd.concat(map(pd.read_csv, glob.glob(f'{dir}\\\\{i}\\\\Dados de Geração\\\\*.csv'))) # Código para concatenar os dados de geração ONS\n",
        "  if zeros == 'sem_zeros' and len(ons_ampl[ons_ampl['Geração'] == 0]) != len(ons_ampl['Geração']):\n",
        "    ons_ampl = ons_ampl.loc[ons_ampl['Geração'] != 0]   #DEFINIR SE VAI SER CONSIDERADOS OS ZEROS DA GERAÇÃO\n",
        "  if list(ons_ampl['Usina'])[0] in list(iema_ampl['Usina']):\n",
        "    dir2 = f'{dir}\\\\{i}\\\\Coeficientes\\\\AMPL\\\\Dados Concatenados'\n",
        "    if os.path.exists(dir2):\n",
        "      if os.path.isfile(f'{dir2}\\\\{i}_{metodo_objetivo}_{pu_mw}_{zeros}.csv') == False:\n",
        "        ampl_model(iema_ampl,ons_ampl)\n",
        "    else:\n",
        "      os.makedirs(f'{dir2}')\n",
        "      ampl_model(iema_ampl,ons_ampl)"
      ]
    },
    {
      "cell_type": "markdown",
      "metadata": {
        "id": "Cklj_M9lRq6X"
      },
      "source": [
        "### Criação das Emissões Sintéticas"
      ]
    },
    {
      "cell_type": "code",
      "execution_count": 49,
      "metadata": {
        "id": "nrcO9_fRRq6Y"
      },
      "outputs": [],
      "source": [
        "# CÓDIGO QUE CALCULA AS EMISSÕES ANUAIS DOS ANOS APRESENTADOS NO IEMA\n",
        "\n",
        "def em_sint(j,arq):\n",
        "  PG = list(arq['Geração'])\n",
        "  em = []\n",
        "\n",
        "  dir2 = f'G:\\\\Meu Drive\\\\Documentos UFSCar\\\\Iniciação Científica (Giovanni Grizante)\\\\Python\\\\Termelétricas (PANDAS)\\\\{usinas[j]}\\\\Coeficientes\\\\AMPL\\\\Dados Concatenados'\n",
        "  if os.path.isfile(f'{dir2}\\\\{usinas[j]}_{metodo_objetivo}_{pu_mw}_{zeros}.csv') == True:\n",
        "    tab = pd.read_csv(f'{dir2}\\\\{usinas[j]}_{metodo_objetivo}_{pu_mw}_{zeros}.csv')\n",
        "\n",
        "    alfa = tab['Valores'].loc[tab['Coeficientes'] == 'Alfa'].item()\n",
        "    beta = tab['Valores'].loc[tab['Coeficientes'] == 'Beta'].item()\n",
        "    gamma = tab['Valores'].loc[tab['Coeficientes'] == 'Gamma'].item()\n",
        "    omega = tab['Valores'].loc[tab['Coeficientes'] == 'Omega'].item()\n",
        "    mi = tab['Valores'].loc[tab['Coeficientes'] == 'Mi'].item()\n",
        "\n",
        "    for k in range(len(PG)):\n",
        "      em.append((alfa * PG[k]**2 + beta * PG[k] + gamma) + omega * np.exp(mi * PG[k]))\n",
        "\n",
        "    data={\n",
        "      'Dia-Hora': list(arq['Dia-Hora']),\n",
        "      'Combustível': list(arq['Combustível']),\n",
        "      'Usina': list(arq['Usina']),\n",
        "      'Emissão': em\n",
        "    }\n",
        "\n",
        "    df = pd.DataFrame(data)\n",
        "    df.to_csv(f'{dir}\\\\{usinas[j]}_{metodo_objetivo}_{pu_mw}_{zeros}.csv',index=False)\n",
        "\n",
        "\n",
        "zeros = 'com_zeros'  # sem_zeros / com_zeros\n",
        "metodo_objetivo = 'MSE'  # MSE / RMSE\n",
        "pu_mw = 'MW'   # MW / PU\n",
        "\n",
        "for i in ons:\n",
        "  if i in iema_emi_usinas.keys():\n",
        "    for j in range(len(usinas)):\n",
        "      if usinas[j] in iema_emi_usinas[i]:\n",
        "        arq = ons[i].loc[ons[i]['Usina']==usinas[j]]\n",
        "        if arq.empty == False:\n",
        "          dir = f'G:\\\\Meu Drive\\\\Documentos UFSCar\\\\Iniciação Científica (Giovanni Grizante)\\\\Python\\\\Termelétricas (PANDAS)\\\\{usinas[j]}\\\\Dados de Emissão (Sintético)\\\\AMPL\\\\{i}'\n",
        "          if os.path.exists(dir):\n",
        "            if os.path.isfile(f'{dir}\\\\{usinas[j]}_{metodo_objetivo}_{pu_mw}_{zeros}.csv') == False:\n",
        "              em_sint(j,arq)\n",
        "          else:\n",
        "            os.makedirs(f'{dir}')\n",
        "            em_sint(j,arq)"
      ]
    },
    {
      "cell_type": "markdown",
      "metadata": {
        "id": "x44qvG3pRq6Y"
      },
      "source": [
        "### Tratamento dos Dados - Geral"
      ]
    },
    {
      "cell_type": "code",
      "execution_count": 3,
      "metadata": {
        "id": "0Qo4UWwyRq6Y"
      },
      "outputs": [],
      "source": [
        "temp = []\n",
        "for i in usinas:\n",
        "  dir = f'G:\\\\Meu Drive\\\\Documentos UFSCar\\\\Iniciação Científica (Giovanni Grizante)\\\\Python\\\\Termelétricas (PANDAS)\\\\{i}\\\\Dados de Geração'\n",
        "  for j in iema.keys():\n",
        "    if os.path.isfile(f'{dir}\\\\{i}_{j}.csv'):\n",
        "      temp.append(pd.read_csv(f'{dir}\\\\{i}_{j}.csv'))\n",
        "      tab_temp = pd.concat(temp)\n",
        "\n",
        "temp = []\n",
        "for i in iema:\n",
        "    temp.append(iema[i][1])\n",
        "    iema_temp = pd.concat(temp)\n",
        "\n",
        "iema_temp = iema_temp.drop_duplicates(subset='Usina')\n",
        "\n",
        "temp = pd.merge(tab_temp,iema_temp,how='left',on='Usina')\n",
        "\n",
        "data = {\n",
        "    'Dia-Hora':temp['Dia-Hora'],\n",
        "    'Usina':temp['Usina'],\n",
        "    'Geração':temp['Geração'],\n",
        "    'Combustível':temp['Combustível_x'],\n",
        "    'Ciclo de Operação':temp['Ciclo de Operação'],\n",
        "    'Potência Instalada': temp['Potência Instalada (MW)']\n",
        "}\n",
        "\n",
        "temp = pd.DataFrame(data)\n",
        "temp = temp.dropna(subset='Ciclo de Operação')\n",
        "\n",
        "ct = ColumnTransformer(transformers=[('encoder',OneHotEncoder(),['Combustível','Ciclo de Operação'])],remainder='passthrough')\n",
        "x=ct.fit_transform(temp)\n",
        "\n",
        "colunas = ['ohe1','ohe2','ohe3','ohe4','ohe5','ohe6','ohe7','ohe8','Dia-Hora','Usina','Geração','Potência Instalada']\n",
        "\n",
        "tab_trat = pd.DataFrame(x,columns=colunas)"
      ]
    },
    {
      "cell_type": "markdown",
      "metadata": {
        "id": "yXtmNSl3Rq6Z"
      },
      "source": [
        "### Tratamento dos Dados - Específico"
      ]
    },
    {
      "cell_type": "code",
      "execution_count": 4,
      "metadata": {
        "id": "daenHZzzRq6Z"
      },
      "outputs": [],
      "source": [
        "usina = ['Candiota III','J. Lacerda C', 'Norte Fluminense', 'Santa Cruz'] # Deixar em branco para todas as usinas\n",
        "zeros = 'com_zeros'\n",
        "\n",
        "usina_serie = tab_trat['Usina']\n",
        "\n",
        "temp = []\n",
        "if usina == []:\n",
        "    for i in usinas:\n",
        "        dir = f'G:\\\\Meu Drive\\\\Documentos UFSCar\\\\Iniciação Científica (Giovanni Grizante)\\\\Python\\\\Termelétricas (PANDAS)\\\\{i}\\\\Dados de Emissão (Sintético)\\\\AMPL'\n",
        "        for j in iema.keys():\n",
        "            if os.path.isfile(f'{dir}\\\\{j}\\\\{i}_MSE_MW_{zeros}.csv'):\n",
        "                temp.append(pd.read_csv(f'{dir}/{j}/{i}_MSE_MW_{zeros}.csv'))\n",
        "                emi = pd.concat(temp)\n",
        "else:\n",
        "    for k in usina:\n",
        "        dir = f'G:\\\\Meu Drive\\\\Documentos UFSCar\\\\Iniciação Científica (Giovanni Grizante)\\\\Python\\\\Termelétricas (PANDAS)\\\\{k}\\\\Dados de Emissão (Sintético)\\\\AMPL'\n",
        "        for i in iema.keys():\n",
        "            if os.path.isfile(f'{dir}/{i}/{k}_MSE_MW_{zeros}.csv'):\n",
        "                temp.append(pd.read_csv(f'{dir}/{i}/{k}_MSE_MW_{zeros}.csv'))\n",
        "                emi = pd.concat(temp)\n",
        "\n",
        "    emi = emi.groupby(['Dia-Hora']).sum()\n",
        "\n",
        "x = tab_trat[['ohe1','ohe2','ohe3','ohe4','ohe5','ohe6','ohe7','ohe8','Geração','Potência Instalada']]\n",
        "\n",
        "# Definição das variáveis de treino e teste\n",
        "sc = StandardScaler() # Transforma variáveis categóricas em numéricas\n",
        "x = sc.fit_transform(x)\n",
        "x = pd.DataFrame({'Coluna1': x[:, 0], 'Coluna2': x[:, 1], 'Coluna3': x[:, 2], 'Coluna4':x[:, 3], 'Coluna5':x[:, 4], 'Coluna6':x[:, 5], 'Coluna7':x[:, 6], 'Coluna8':x[:, 7], 'Geração':x[:, 8], 'Potência Instalada':x[:, 9], 'Usina':usina_serie,'Dia-Hora':tab_trat['Dia-Hora']})\n",
        "x = x.loc[x['Usina'].isin(usina)] if usina != '' else x\n",
        "x = x.groupby(['Dia-Hora']).sum()\n",
        "x = x.drop(['Usina'],axis=1)\n",
        "\n",
        "y = emi['Emissão']\n",
        "\n",
        "x_train, x_test, y_train, y_test = train_test_split(x, y, test_size=0.2, shuffle=False)"
      ]
    },
    {
      "cell_type": "markdown",
      "metadata": {
        "id": "GD4ajy0FRq6Z"
      },
      "source": [
        "### Criação Rede Neural"
      ]
    },
    {
      "cell_type": "code",
      "execution_count": null,
      "metadata": {
        "id": "DEvwEBy8Rq6Z",
        "outputId": "791273d5-1ff3-40de-c5dd-0eedb30bc2b6"
      },
      "outputs": [],
      "source": [
        "K.clear_session()   #Limpar redes geradas anteriormente\n",
        "rede = tf.keras.Sequential()\n",
        "\n",
        "if usina == []: #EM TESTE\n",
        "    rede.add(tf.keras.layers.Dense(128,activation='relu'))\n",
        "    rede.add(tf.keras.layers.Dense(256,activation='relu'))\n",
        "    rede.add(tf.keras.layers.Dense(256,activation='relu'))\n",
        "    rede.add(tf.keras.layers.Dense(128,activation='relu'))\n",
        "    rede.add(tf.keras.layers.Dense(1))\n",
        "\n",
        "else:\n",
        "    rede.add(tf.keras.layers.Dense(64,activation='relu'))\n",
        "    rede.add(tf.keras.layers.Dense(64,activation='relu'))\n",
        "    rede.add(tf.keras.layers.Dense(64,activation='relu'))\n",
        "    rede.add(tf.keras.layers.Dense(1))\n",
        "\n",
        "opt = tf.keras.optimizers.Adam(learning_rate=0.001)\n",
        "rede.compile(optimizer=opt, loss='mean_squared_error')"
      ]
    },
    {
      "cell_type": "markdown",
      "metadata": {
        "id": "HrmFNBJvRq6a"
      },
      "source": [
        "### Treino e Execução da Rede Neural"
      ]
    },
    {
      "cell_type": "code",
      "execution_count": null,
      "metadata": {
        "id": "kOfilv-XRq6a"
      },
      "outputs": [],
      "source": [
        "# Inicializa a medição do erro quadrático médio\n",
        "mse = tf.keras.metrics.MeanSquaredError()\n",
        "\n",
        "# While para treinar a rede N vezes até atingir um erro satisfatório\n",
        "tic = time.time()\n",
        "i=0\n",
        "#while True:\n",
        "i+=1\n",
        "rede.fit(x_train,y_train,epochs=2000,verbose=0)\n",
        "y_pred = rede.predict(x_train)\n",
        "\n",
        "mse.update_state(y_train, y_pred)\n",
        "mse_result = mse.result().numpy()\n",
        "print(f'MSE Geração {i}: {mse_result}')\n",
        "    # if mse_result < 20:\n",
        "    #     tac = time.time()\n",
        "    #     break\n",
        "    # tempo_exec = tac - tic\n",
        "    # print(f'\\nTempo de Execução: {tempo_exec}')\n",
        "\n",
        "#Salvar os pesos no diretório\n",
        "if usina == '':\n",
        "    dir = 'G:\\\\Meu Drive\\\\Documentos UFSCar\\\\Iniciação Científica (Giovanni Grizante)\\\\Python\\\\Código'\n",
        "    rede.save_weights(f'{dir}\\\\Pesos_Geral.weights.h5')\n",
        "else:\n",
        "    dir = f'G:\\\\Meu Drive\\\\Documentos UFSCar\\\\Iniciação Científica (Giovanni Grizante)\\\\Python\\\\Termelétricas (PANDAS)\\\\{usina}\\\\Pesos'\n",
        "    if os.path.exists(dir):\n",
        "        if os.path.isfile(f'{dir}\\\\{usina}.weights.h5') == False:\n",
        "            rede.save_weights(f'{dir}\\\\{usina}.weights.h5')\n",
        "    else:\n",
        "        os.makedirs(f'{dir}')\n",
        "        rede.save_weights(f'{dir}\\\\{usina}.weights.h5')"
      ]
    },
    {
      "cell_type": "markdown",
      "metadata": {
        "id": "avEG46FZRq6b"
      },
      "source": [
        "### Execução da Rede à Partir de Pesos Salvos (Necessário executar o treino da rede uma vez)"
      ]
    },
    {
      "cell_type": "code",
      "execution_count": null,
      "metadata": {
        "id": "gf4E9a40Rq6b"
      },
      "outputs": [],
      "source": [
        "# Inicializa a medição do erro quadrático médio\n",
        "mse = tf.keras.metrics.MeanSquaredError()\n",
        "\n",
        "# Carregar os pesos\n",
        "dir = f'G:\\\\Meu Drive\\\\Documentos UFSCar\\\\Iniciação Científica (Giovanni Grizante)\\\\Python\\\\Termelétricas (PANDAS)\\\\{usina}\\\\Pesos'\n",
        "rede.load_weights(f'{dir}/{usina}.weights.h5')\n",
        "\n",
        "# Executa a rede\n",
        "y_pred = rede.predict(x_train)\n",
        "\n",
        "mse.update_state(y_train, y_pred)\n",
        "mse_result = mse.result().numpy()\n",
        "print(f'MSE Geração {i}: {mse_result}')"
      ]
    },
    {
      "cell_type": "markdown",
      "metadata": {
        "id": "7v9ZD2wMRq6c"
      },
      "source": [
        "## Gráficos"
      ]
    },
    {
      "cell_type": "markdown",
      "metadata": {
        "id": "V4U5KlmyWTAT"
      },
      "source": [
        "### Gráficos 2D"
      ]
    },
    {
      "cell_type": "markdown",
      "metadata": {},
      "source": [
        "#### Gráfico com um eixo Y"
      ]
    },
    {
      "cell_type": "code",
      "execution_count": 8,
      "metadata": {
        "id": "f_dA4BuDRq6d"
      },
      "outputs": [
        {
          "name": "stdout",
          "output_type": "stream",
          "text": [
            "Regressão ['Candiota III', 'J. Lacerda C', 'Norte Fluminense', 'Santa Cruz'] (MSE: 2325.4746)\n"
          ]
        },
        {
          "data": {
            "image/png": "[encoded data removed]",
            "text/plain": [
              "<Figure size 640x480 with 1 Axes>"
            ]
          },
          "metadata": {},
          "output_type": "display_data"
        }
      ],
      "source": [
        "x_fig = np.linspace(0,len(y_pred),len(x_test))\n",
        "tempo_inicio = 0\n",
        "tempo_fim = 1000\n",
        "\n",
        "ger = tab_trat[['Dia-Hora','Geração']].loc[tab_trat['Usina'].isin(usina)]\n",
        "ger = ger.groupby('Dia-Hora').sum()\n",
        "\n",
        "plt.figure()\n",
        "plt.plot(x_fig[tempo_inicio:tempo_fim],y_pred[tempo_inicio:tempo_fim], x_fig[tempo_inicio:tempo_fim],ger[tempo_inicio:tempo_fim])\n",
        "plt.legend(['Emissões','Geração'])\n",
        "plt.xlabel('Intervalo de Discretização [Hora]')\n",
        "plt.ylabel('Dados em MW')\n",
        "#plt.title(f'Regressão {usina} (MSE: {mse.result().numpy():.4f})')\n",
        "plt.grid()\n",
        "print(f'Regressão {usina} (MSE: {mse.result().numpy():.4f})') if usina != '' else print('Regressão de todas as usinas')\n",
        "plt.show()"
      ]
    },
    {
      "cell_type": "markdown",
      "metadata": {},
      "source": [
        "#### Gráfico com dois eixos Y"
      ]
    },
    {
      "cell_type": "code",
      "execution_count": 9,
      "metadata": {
        "id": "sT_Hd4VxTL4v"
      },
      "outputs": [
        {
          "name": "stdout",
          "output_type": "stream",
          "text": [
            "Gráfico referente à usina ['Candiota III', 'J. Lacerda C', 'Norte Fluminense', 'Santa Cruz']\n",
            "\n"
          ]
        },
        {
          "data": {
            "image/png": "[encoded data removed]",
            "text/plain": [
              "<Figure size 640x480 with 2 Axes>"
            ]
          },
          "metadata": {},
          "output_type": "display_data"
        }
      ],
      "source": [
        "# Gráfico com dois eixos Y\n",
        "\n",
        "x_fig = np.linspace(0,len(y_pred),len(x_test))\n",
        "tempo_inicio = 0\n",
        "tempo_fim = 1000\n",
        "\n",
        "ger = tab_trat[['Dia-Hora','Geração']].loc[tab_trat['Usina'].isin(usina)]\n",
        "ger = ger.groupby('Dia-Hora').sum()\n",
        "\n",
        "fig,ax1 = plt.subplots()\n",
        "\n",
        "ax1.set_xlabel('Intervalo de Discretização [Hora]')\n",
        "ax1.set_ylabel('Potência Gerada [MW]')\n",
        "ax1.plot(x_fig[tempo_inicio:tempo_fim],ger[tempo_inicio:tempo_fim],color='r')\n",
        "\n",
        "ax2 = ax1.twinx()\n",
        "ax2.set_ylabel('Toneladas CO2-e/h')\n",
        "ax2.plot(x_fig[tempo_inicio:tempo_fim],y_pred[tempo_inicio:tempo_fim],color='b')\n",
        "ax2.grid(True)\n",
        "\n",
        "# Adicionando legendas personalizadas\n",
        "legend_elements = [\n",
        "    Line2D([0], [0], color='r', lw=2, label='Geração'),\n",
        "    Line2D([0], [0], color='b', lw=2, label='Emissão'),\n",
        "    #Line2D([0], [0], color='w', lw=0, label=f'Potência Instalada: {iema_temp['Potência Instalada (MW)'].loc[iema_temp['Usina'] == usina].values[0]:.0f}MW'),\n",
        "    #Line2D([0], [0], color='w', lw=0, label=f'Ciclo de Operação: {iema_temp['Ciclo de Operação'].loc[iema_temp['Usina'] == usina].values[0]}'),\n",
        "    #Line2D([0], [0], color='w', lw=0, label=f'Combustível: {iema_temp['Combustível'].loc[iema_temp['Usina'] == usina].values[0]}')]\n",
        "]\n",
        "# Unindo as legendas\n",
        "ax2.legend(handles=legend_elements, loc='best', fontsize='small', facecolor='white', framealpha=1)\n",
        "\n",
        "print(f'Gráfico referente à usina {usina}\\n') if usina != '' else print('Gráfico referente à todas as usinas')\n",
        "plt.show()"
      ]
    },
    {
      "cell_type": "markdown",
      "metadata": {
        "id": "z5dT7QEoWNLA"
      },
      "source": [
        "### Gráfico 3D"
      ]
    },
    {
      "cell_type": "code",
      "execution_count": null,
      "metadata": {
        "id": "rWhMtRFhWX9u"
      },
      "outputs": [],
      "source": [
        "# Treino da Rede para Obter o Erro\n",
        "\n",
        "neur_max = 20\n",
        "z = np.array([])\n",
        "\n",
        "dir = 'G:\\\\Meu Drive\\\\Documentos UFSCar\\\\Iniciação Científica (Giovanni Grizante)\\\\Python\\\\Código'\n",
        "\n",
        "if os.path.isfile(f'{dir}\\\\MSE {usina} - Gráfico 3D.txt'):\n",
        "  print(f'Valores de erro para usina {usina} já existentes.')\n",
        "else:\n",
        "  for i in range(1, neur_max+1):\n",
        "    print(f'Treinando para {i} neurônio(os) na primeira camada')\n",
        "\n",
        "    for j in range(1, neur_max+1):\n",
        "      K.clear_session()\n",
        "\n",
        "      rede = tf.keras.Sequential()\n",
        "      rede.add(tf.keras.layers.Dense(i,activation='relu'))\n",
        "      rede.add(tf.keras.layers.Dense(j,activation='relu'))\n",
        "      rede.add(tf.keras.layers.Dense(1))\n",
        "\n",
        "      opt = tf.keras.optimizers.Adam(learning_rate=0.001)\n",
        "      rede.compile(optimizer=opt, loss='mean_squared_error')\n",
        "\n",
        "      # Inicializa a medição do erro quadrático médio\n",
        "      mse = tf.keras.metrics.MeanSquaredError()\n",
        "\n",
        "      #Treinamento e teste da rede\n",
        "      print(f'Treinando para {j} neurônio(os) na segunda camada')\n",
        "      rede.fit(x_train,y_train,epochs=2000,verbose=0)\n",
        "      y_pred = rede.predict(x_train)\n",
        "\n",
        "      mse.update_state(y_train, y_pred)\n",
        "      z = np.append(z,mse.result().numpy())\n",
        "      print(f'Treinamento concluído. Erro: {mse.result().numpy():.2f}\\n')\n",
        "\n",
        "  np.savetxt(f'MSE {usina} - Gráfico 3D.txt', z)\n",
        "  print(f'Todos os valores de erro para usina {usina} salvos.')"
      ]
    },
    {
      "cell_type": "code",
      "execution_count": 11,
      "metadata": {
        "id": "RiXDsj7wRq6c"
      },
      "outputs": [],
      "source": [
        "# Gráfico 3D relacionando erro pela quantia de neurônios\n",
        "\n",
        "x = np.array([])\n",
        "for i in range(neur_max):\n",
        "  for j in range(neur_max):\n",
        "    x = np.append(x,i+1)\n",
        "\n",
        "y = np.array([])\n",
        "for i in range(neur_max):\n",
        "  for j in range(neur_max):\n",
        "    y = np.append(y,j+1)\n",
        "\n",
        "dir = f'G:\\\\Meu Drive\\\\Documentos UFSCar\\\\Iniciação Científica (Giovanni Grizante)\\\\Python\\\\Código'\n",
        "\n",
        "if os.path.isfile(f'{dir}\\\\MSE {usina} - Gráfico 3D.txt'):\n",
        "\n",
        "  z = np.loadtxt(f'MSE {usina} - Gráfico 3D.txt')\n",
        "\n",
        "  cm = 1/2.54\n",
        "  fig = plt.figure(figsize=(20*cm,20*cm))\n",
        "  ax = fig.add_subplot(111, projection='3d')\n",
        "\n",
        "  # Plotando pontos\n",
        "  ax.scatter(x, y, z, c='r', marker='o')\n",
        "\n",
        "  # Plotando linhas (Opcional)\n",
        "  # for i in range(len(x)):\n",
        "  #     ax.plot([x[i], x[i]], [y[i], y[i]], [0, z[i]], color='b')\n",
        "\n",
        "  # Plotando faces\n",
        "  ax.plot_trisurf(x, y, z, linewidth=0.2, antialiased=True, color='cyan',edgecolors='k')\n",
        "\n",
        "  # Mudando o passo dos eixos\n",
        "  ax.set_xticks(np.arange(0, 21, 2))  # Define os ticks do eixo x\n",
        "  ax.set_yticks(np.arange(0, 21, 2))  # Define os ticks do eixo y\n",
        "  #ax.set_zticks(np.arange(0, 1))  # Define os ticks do eixo z\n",
        "\n",
        "  # Configurações adicionais\n",
        "  ax.set_xlabel('Neurônios na 1ª Camada Oculta', fontsize=12)\n",
        "  ax.set_ylabel('Neurônios na 2ª Camada Oculta', fontsize=12)\n",
        "  ax.set_zlabel('Erro', fontsize=12,rotation=90)\n",
        "\n",
        "  plt.show()\n",
        "\n",
        "else:\n",
        "  print(f'Erros para usina {usina} não gerados')"
      ]
    },
    {
      "cell_type": "markdown",
      "metadata": {
        "id": "UrZE-fUfNL2m"
      },
      "source": [
        "## Algoritmos Auxiliares (Definir as variáveis antes)"
      ]
    },
    {
      "cell_type": "markdown",
      "metadata": {
        "id": "VXLqkAA5Rq6f"
      },
      "source": [
        "### Algoritmo para Preenchimento das Tabelas IEMA Utilizando uma Tabela Base (ARRUMAR)"
      ]
    },
    {
      "cell_type": "code",
      "execution_count": null,
      "metadata": {
        "cellView": "form",
        "id": "TsQJqhzps04M"
      },
      "outputs": [],
      "source": [
        "dir = 'G:\\\\Meu Drive\\\\Documentos UFSCar\\\\Iniciação Científica (Giovanni Grizante)\\\\IEMA'\n",
        "tab_temp1 = {}\n",
        "tab_temp2 = []\n",
        "\n",
        "ano_base = input('Escolha o ano base: ')\n",
        "tipo_base = input('Escolha a tabela base (Geração ou Emissão): ').upper()\n",
        "ano_preencher = input('Escolha o ano a ser preenchido: ')\n",
        "tipo_preencher = input('Escolha a tabela a ser preenchida (Geração ou Emissão): ').upper()\n",
        "\n",
        "if (ano_base in iema.keys()) and (ano_preencher in iema.keys()) and (tipo_base == 'GERAÇÃO' or tipo_base == 'EMISSÃO') and (tipo_preencher == 'GERAÇÃO' or tipo_preencher == 'EMISSÃO'):\n",
        "\n",
        "  if tipo_base == tipo_preencher and ano_base == ano_preencher:\n",
        "    print('\\nAVISO: Redundância nas informações. Verificar preenchimento solicitado.')\n",
        "\n",
        "  else:\n",
        "    tipo_base_num = 0 if tipo_base == 'GERAÇÃO' else 1\n",
        "    tipo_preencher_num = 0 if tipo_preencher == 'GERAÇÃO' else 1\n",
        "\n",
        "    tab_temp2 = pd.merge(iema[ano_base][tipo_base_num], iema[ano_preencher][tipo_preencher_num], how='right', on='Usina', suffixes=(f'_{ano_base}_{tipo_base}', f'_{ano_preencher}_{tipo_preencher}'))\n",
        "\n",
        "    tab_temp2[f'Município_{ano_preencher}_{tipo_preencher}'] = tab_temp2[f'Município_{ano_base}_{tipo_base}']\n",
        "    tab_temp2[f'Estado_{ano_preencher}_{tipo_preencher}'] = tab_temp2[f'Estado_{ano_base}_{tipo_base}']\n",
        "    tab_temp2[f'Combustível_{ano_preencher}_{tipo_preencher}'] = tab_temp2[f'Combustível_{ano_base}_{tipo_base}']\n",
        "    tab_temp2[f'Ciclo de Operação_{ano_preencher}_{tipo_preencher}'] = tab_temp2[f'Ciclo de Operação_{ano_base}_{tipo_base}']\n",
        "\n",
        "    tab_temp1[ano_preencher] = tab_temp2.iloc[:, [0,7,8,10,11]]   # ARRUMAR PARA FAZER COM QUE SEJAM ESCOLHIDAS AS COLUNAS PELO NOME DELAS\n",
        "\n",
        "    if os.path.isfile(f'{dir}/{ano_preencher}/IEMA {ano_preencher} {tipo_preencher}_Código.xlsx') == False:\n",
        "      tab_temp1[ano_preencher].to_excel(f'{dir}/{ano_preencher}/IEMA {ano_preencher} {tipo_preencher}_Código.xlsx',index=False)\n",
        "      print('\\nAVISO: Geração de arquivo concluída. Verificar pasta daqui alguns segundos.')\n",
        "\n",
        "    else:\n",
        "      print('\\nAVISO: Arquivo ja existente. Verificar pasta.')\n",
        "\n",
        "else:\n",
        "  print('\\nAVISO: Informação não disponível ou erro de digitação.')"
      ]
    }
  ],
  "metadata": {
    "colab": {
      "collapsed_sections": [
        "27WgAXdHwu8R",
        "SWdDNRduSwAk",
        "HIVSaMkI1ZzQ"
      ],
      "provenance": []
    },
    "kernelspec": {
      "display_name": "Python 3",
      "name": "python3"
    },
    "language_info": {
      "codemirror_mode": {
        "name": "ipython",
        "version": 3
      },
      "file_extension": ".py",
      "mimetype": "text/x-python",
      "name": "python",
      "nbconvert_exporter": "python",
      "pygments_lexer": "ipython3",
      "version": "3.12.3"
    }
  },
  "nbformat": 4,
  "nbformat_minor": 0
}
